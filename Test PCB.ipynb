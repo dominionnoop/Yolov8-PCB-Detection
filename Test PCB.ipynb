{
 "cells": [
  {
   "cell_type": "code",
   "execution_count": 4,
   "id": "08c1ad8d",
   "metadata": {},
   "outputs": [
    {
     "data": {
      "application/vnd.jupyter.widget-view+json": {
       "model_id": "62666417713e4f0e9c7142bb064bfdd3",
       "version_major": 2,
       "version_minor": 0
      },
      "text/plain": [
       "VBox(children=(HBox(children=(Button(button_style='info', description='Previous', style=ButtonStyle()), Button…"
      ]
     },
     "metadata": {},
     "output_type": "display_data"
    }
   ],
   "source": [
    "# Import necessary libraries\n",
    "import os\n",
    "from ultralytics import YOLO\n",
    "import cv2\n",
    "import matplotlib.pyplot as plt\n",
    "from ipywidgets import Button, VBox, HBox, Output\n",
    "from IPython.display import display\n",
    "\n",
    "# Define paths\n",
    "image_folder = r\"C:\\Users\\User\\Desktop\\PCB Detection\\dataset\\test\\images\"\n",
    "model_path = r\"C:\\Users\\User\\Desktop\\PCB Detection\\runs\\train\\exp\\weights\\best.pt\"\n",
    "\n",
    "# Load the YOLO model\n",
    "model = YOLO(model_path)\n",
    "\n",
    "# Get all image files in the folder\n",
    "image_files = [f for f in os.listdir(image_folder) if f.lower().endswith(('.png', '.jpg', '.jpeg'))]\n",
    "image_files.sort()  # Sort images alphabetically\n",
    "current_index = [0]  # Use a list for mutable index tracking\n",
    "\n",
    "# Create widgets\n",
    "btn_prev = Button(description=\"Previous\", button_style='info')\n",
    "btn_next = Button(description=\"Next\", button_style='info')\n",
    "output = Output()\n",
    "\n",
    "# Function to display image with YOLOv8 results inside Jupyter Notebook\n",
    "def display_image(index):\n",
    "    # Clear previous output\n",
    "    output.clear_output(wait=True)\n",
    "    with output:\n",
    "        # Get the current image path\n",
    "        img_path = os.path.join(image_folder, image_files[index])\n",
    "        \n",
    "        # Run YOLOv8 model prediction\n",
    "        results = model.predict(img_path, save=False, imgsz=640)\n",
    "        \n",
    "        # Load the image with OpenCV\n",
    "        img = cv2.imread(img_path)\n",
    "        img = cv2.cvtColor(img, cv2.COLOR_BGR2RGB)  # Convert to RGB for Jupyter display\n",
    "        \n",
    "        # Draw bounding boxes on the image using Matplotlib\n",
    "        plt.figure(figsize=(10, 10))\n",
    "        plt.imshow(img)\n",
    "        \n",
    "        for box, conf, cls in zip(results[0].boxes.xyxy, results[0].boxes.conf, results[0].boxes.cls):\n",
    "            x1, y1, x2, y2 = map(int, box)  # Extract bounding box coordinates\n",
    "            label = f\"{model.names[int(cls)]} {conf:.2f}\"  # Class label and confidence\n",
    "            \n",
    "            # Draw bounding box\n",
    "            plt.gca().add_patch(plt.Rectangle(\n",
    "                (x1, y1), x2 - x1, y2 - y1, fill=False, edgecolor='lime', linewidth=2\n",
    "            ))\n",
    "            # Draw label\n",
    "            plt.text(x1, y1 - 10, label, color='lime', fontsize=12, backgroundcolor=\"black\")\n",
    "        \n",
    "        plt.axis('off')\n",
    "        plt.title(f\"Prediction for: {image_files[index]}\")\n",
    "        plt.show()\n",
    "\n",
    "# Button callbacks\n",
    "def on_prev_clicked(b):\n",
    "    if current_index[0] > 0:\n",
    "        current_index[0] -= 1\n",
    "        display_image(current_index[0])\n",
    "\n",
    "def on_next_clicked(b):\n",
    "    if current_index[0] < len(image_files) - 1:\n",
    "        current_index[0] += 1\n",
    "        display_image(current_index[0])\n",
    "\n",
    "# Attach button callbacks\n",
    "btn_prev.on_click(on_prev_clicked)\n",
    "btn_next.on_click(on_next_clicked)\n",
    "\n",
    "# Initial display\n",
    "display_image(current_index[0])\n",
    "\n",
    "# Display the buttons and output\n",
    "display(VBox([HBox([btn_prev, btn_next]), output]))\n"
   ]
  },
  {
   "cell_type": "code",
   "execution_count": null,
   "id": "7071642b",
   "metadata": {},
   "outputs": [],
   "source": []
  },
  {
   "cell_type": "code",
   "execution_count": null,
   "id": "df6cffb2",
   "metadata": {},
   "outputs": [],
   "source": []
  }
 ],
 "metadata": {
  "kernelspec": {
   "display_name": "Python 3 (ipykernel)",
   "language": "python",
   "name": "python3"
  },
  "language_info": {
   "codemirror_mode": {
    "name": "ipython",
    "version": 3
   },
   "file_extension": ".py",
   "mimetype": "text/x-python",
   "name": "python",
   "nbconvert_exporter": "python",
   "pygments_lexer": "ipython3",
   "version": "3.9.17"
  }
 },
 "nbformat": 4,
 "nbformat_minor": 5
}
